{
 "cells": [
  {
   "cell_type": "markdown",
   "source": [
    "This uses a simple neural network to classify a text into sarcastic or not"
   ],
   "metadata": {
    "collapsed": false
   },
   "id": "578f78b825b18f26"
  },
  {
   "cell_type": "code",
   "execution_count": 41,
   "outputs": [
    {
     "name": "stderr",
     "output_type": "stream",
     "text": [
      "Matplotlib is building the font cache; this may take a moment.\n"
     ]
    }
   ],
   "source": [
    "# Import required packages\n",
    "import json\n",
    "import numpy as np\n",
    "import keras as keras\n",
    "import matplotlib.pyplot as plt\n",
    "from keras_preprocessing.text import Tokenizer\n",
    "from keras_preprocessing.sequence import pad_sequences"
   ],
   "metadata": {
    "collapsed": false,
    "ExecuteTime": {
     "end_time": "2024-06-09T10:12:14.637666Z",
     "start_time": "2024-06-09T10:11:59.228756Z"
    }
   },
   "id": "initial_id"
  },
  {
   "cell_type": "code",
   "execution_count": 29,
   "outputs": [],
   "source": [
    "# Fix the json file (it creates the sarcasm_fixed.json file)\n",
    "\n",
    "# with open('data/Sarcasm_Headlines_Dataset.json','r') as f:\n",
    "#     lines = f.readlines()\n",
    "#     s = '['\n",
    "#     for line in lines:\n",
    "#         #each line already had a '\\n' so I had to strip it out, add a comma, and put the '\\n' back in\n",
    "#         s+= line[:-1] +',\\n'\n",
    "#     #the last line will have an extra ',\\n' which we need to get rid of and cap with a ']'\n",
    "#     s= s[:-2]+']'\n",
    "# with open('./sarcasm_fixed.json', 'w') as f:\n",
    "#     f.write(s)"
   ],
   "metadata": {
    "collapsed": false,
    "ExecuteTime": {
     "end_time": "2024-06-09T10:07:12.079447Z",
     "start_time": "2024-06-09T10:07:12.072989Z"
    }
   },
   "id": "b59c70a5bcc871fd"
  },
  {
   "cell_type": "code",
   "execution_count": 30,
   "outputs": [],
   "source": [
    "with open('data/sarcasm_fixed.json', 'r') as f:\n",
    "    datastore = json.load(f)"
   ],
   "metadata": {
    "collapsed": false,
    "ExecuteTime": {
     "end_time": "2024-06-09T10:07:12.792364Z",
     "start_time": "2024-06-09T10:07:12.744376Z"
    }
   },
   "id": "10a1e80412317eb1"
  },
  {
   "cell_type": "code",
   "execution_count": 31,
   "outputs": [],
   "source": [
    "# Decode the json file\n",
    "\n",
    "sentences =[]\n",
    "labels = []\n",
    "urls = []\n",
    "\n",
    "for item in datastore:\n",
    "    sentences.append(item['headline'])\n",
    "    labels.append(item['is_sarcastic'])\n",
    "    urls.append(item['article_link'])"
   ],
   "metadata": {
    "collapsed": false,
    "ExecuteTime": {
     "end_time": "2024-06-09T10:07:13.476226Z",
     "start_time": "2024-06-09T10:07:13.473902Z"
    }
   },
   "id": "e225ec38449cbe05"
  },
  {
   "cell_type": "markdown",
   "source": [
    "Preprocessing "
   ],
   "metadata": {
    "collapsed": false
   },
   "id": "a9530e1293c7ce44"
  },
  {
   "cell_type": "code",
   "execution_count": 32,
   "outputs": [],
   "source": [
    "# Split the dataset into training and test data\n",
    "\n",
    "training_size = 20000\n",
    "\n",
    "training_sentences = sentences[0:training_size]\n",
    "testing_sentences = sentences[training_size:]\n",
    "training_labels = labels[0:training_size]\n",
    "testing_labels = labels[training_size:]"
   ],
   "metadata": {
    "collapsed": false,
    "ExecuteTime": {
     "end_time": "2024-06-09T10:07:15.280327Z",
     "start_time": "2024-06-09T10:07:15.278994Z"
    }
   },
   "id": "c1b53b2cb9b5895b"
  },
  {
   "cell_type": "code",
   "execution_count": 33,
   "outputs": [],
   "source": [
    "tokenizer = Tokenizer(oov_token='<OOV>')\n",
    "tokenizer.fit_on_texts(training_sentences)\n",
    "word_index = tokenizer.word_index\n",
    "\n",
    "training_sequences = tokenizer.texts_to_sequences(training_sentences)\n",
    "training_padded = pad_sequences(training_sequences)\n",
    "\n",
    "testing_sequences = tokenizer.texts_to_sequences(testing_sentences)\n",
    "testing_padded = pad_sequences(testing_sequences)\n"
   ],
   "metadata": {
    "collapsed": false,
    "ExecuteTime": {
     "end_time": "2024-06-09T10:07:16.947717Z",
     "start_time": "2024-06-09T10:07:16.207673Z"
    }
   },
   "id": "6ff167c4f44c56d0"
  },
  {
   "cell_type": "code",
   "execution_count": 34,
   "outputs": [],
   "source": [
    "# Converting the lists into numpy arrays\n",
    "training_padded = np.array(training_padded)\n",
    "training_labels = np.array(training_labels)\n",
    "testing_padded = np.array(testing_padded)\n",
    "testing_labels = np.array(testing_labels)"
   ],
   "metadata": {
    "collapsed": false,
    "ExecuteTime": {
     "end_time": "2024-06-09T10:07:18.757200Z",
     "start_time": "2024-06-09T10:07:18.737118Z"
    }
   },
   "id": "2dfee94ad3b7a02c"
  },
  {
   "cell_type": "markdown",
   "source": [
    "Training the neural network"
   ],
   "metadata": {
    "collapsed": false
   },
   "id": "e773c6f15356a5d"
  },
  {
   "cell_type": "code",
   "execution_count": 39,
   "outputs": [],
   "source": [
    "###\n",
    "# The top layer of the NN is an Embedding layer.\n",
    "# It learns the direction of each work in the vector in epoch by epoch\n",
    "# The GlobalAveragePooling adds up the vectors###\n",
    "\n",
    "vocab_size = 30000\n",
    "embedding_dim = 16\n",
    "max_length = 100\n",
    "\n",
    "model = keras.Sequential([\n",
    "    keras.layers.Embedding(vocab_size, embedding_dim, input_length=max_length),\n",
    "    keras.layers.GlobalMaxPool1D(),\n",
    "    keras.layers.Dense(24, activation=\"relu\"),\n",
    "    keras.layers.Dense(1, activation=\"sigmoid\")\n",
    "])\n",
    "\n",
    "model.compile(loss='binary_crossentropy', optimizer='adam', metrics=['accuracy'])"
   ],
   "metadata": {
    "collapsed": false,
    "ExecuteTime": {
     "end_time": "2024-06-09T10:07:59.471850Z",
     "start_time": "2024-06-09T10:07:59.464986Z"
    }
   },
   "id": "5b3b995336b239f0"
  },
  {
   "cell_type": "code",
   "execution_count": 40,
   "outputs": [
    {
     "name": "stdout",
     "output_type": "stream",
     "text": [
      "Epoch 1/30\n",
      "625/625 - 3s - 4ms/step - accuracy: 0.7143 - loss: 0.5474 - val_accuracy: 0.8028 - val_loss: 0.4357\n",
      "Epoch 2/30\n",
      "625/625 - 2s - 3ms/step - accuracy: 0.8638 - loss: 0.3342 - val_accuracy: 0.8264 - val_loss: 0.3763\n",
      "Epoch 3/30\n",
      "625/625 - 2s - 3ms/step - accuracy: 0.9238 - loss: 0.2047 - val_accuracy: 0.8335 - val_loss: 0.3870\n",
      "Epoch 4/30\n",
      "625/625 - 2s - 3ms/step - accuracy: 0.9599 - loss: 0.1218 - val_accuracy: 0.8305 - val_loss: 0.4188\n",
      "Epoch 5/30\n",
      "625/625 - 2s - 3ms/step - accuracy: 0.9787 - loss: 0.0703 - val_accuracy: 0.8317 - val_loss: 0.4681\n",
      "Epoch 6/30\n",
      "625/625 - 2s - 3ms/step - accuracy: 0.9892 - loss: 0.0398 - val_accuracy: 0.8293 - val_loss: 0.5154\n",
      "Epoch 7/30\n",
      "625/625 - 2s - 3ms/step - accuracy: 0.9950 - loss: 0.0221 - val_accuracy: 0.8253 - val_loss: 0.5735\n",
      "Epoch 8/30\n",
      "625/625 - 2s - 3ms/step - accuracy: 0.9983 - loss: 0.0122 - val_accuracy: 0.8256 - val_loss: 0.6301\n",
      "Epoch 9/30\n",
      "625/625 - 2s - 3ms/step - accuracy: 0.9990 - loss: 0.0068 - val_accuracy: 0.8213 - val_loss: 0.6837\n",
      "Epoch 10/30\n",
      "625/625 - 2s - 3ms/step - accuracy: 0.9997 - loss: 0.0039 - val_accuracy: 0.8226 - val_loss: 0.7262\n",
      "Epoch 11/30\n",
      "625/625 - 2s - 3ms/step - accuracy: 0.9999 - loss: 0.0023 - val_accuracy: 0.8202 - val_loss: 0.7723\n",
      "Epoch 12/30\n",
      "625/625 - 2s - 3ms/step - accuracy: 1.0000 - loss: 0.0013 - val_accuracy: 0.8189 - val_loss: 0.8151\n",
      "Epoch 13/30\n",
      "625/625 - 2s - 3ms/step - accuracy: 1.0000 - loss: 8.4617e-04 - val_accuracy: 0.8205 - val_loss: 0.8539\n",
      "Epoch 14/30\n",
      "625/625 - 2s - 3ms/step - accuracy: 1.0000 - loss: 4.9866e-04 - val_accuracy: 0.8176 - val_loss: 0.8945\n",
      "Epoch 15/30\n",
      "625/625 - 2s - 3ms/step - accuracy: 1.0000 - loss: 3.2064e-04 - val_accuracy: 0.8190 - val_loss: 0.9331\n",
      "Epoch 16/30\n",
      "625/625 - 2s - 3ms/step - accuracy: 1.0000 - loss: 2.0297e-04 - val_accuracy: 0.8168 - val_loss: 0.9694\n",
      "Epoch 17/30\n",
      "625/625 - 2s - 3ms/step - accuracy: 1.0000 - loss: 1.3742e-04 - val_accuracy: 0.8176 - val_loss: 1.0037\n",
      "Epoch 18/30\n",
      "625/625 - 2s - 3ms/step - accuracy: 1.0000 - loss: 9.2747e-05 - val_accuracy: 0.8164 - val_loss: 1.0405\n",
      "Epoch 19/30\n",
      "625/625 - 2s - 3ms/step - accuracy: 1.0000 - loss: 6.2783e-05 - val_accuracy: 0.8162 - val_loss: 1.0758\n",
      "Epoch 20/30\n",
      "625/625 - 2s - 3ms/step - accuracy: 1.0000 - loss: 4.2726e-05 - val_accuracy: 0.8159 - val_loss: 1.1099\n",
      "Epoch 21/30\n",
      "625/625 - 2s - 3ms/step - accuracy: 1.0000 - loss: 2.9365e-05 - val_accuracy: 0.8156 - val_loss: 1.1444\n",
      "Epoch 22/30\n",
      "625/625 - 2s - 3ms/step - accuracy: 1.0000 - loss: 2.0099e-05 - val_accuracy: 0.8170 - val_loss: 1.1801\n",
      "Epoch 23/30\n",
      "625/625 - 2s - 3ms/step - accuracy: 1.0000 - loss: 1.3924e-05 - val_accuracy: 0.8150 - val_loss: 1.2132\n",
      "Epoch 24/30\n",
      "625/625 - 2s - 3ms/step - accuracy: 1.0000 - loss: 9.8088e-06 - val_accuracy: 0.8167 - val_loss: 1.2469\n",
      "Epoch 25/30\n",
      "625/625 - 2s - 3ms/step - accuracy: 1.0000 - loss: 6.7677e-06 - val_accuracy: 0.8176 - val_loss: 1.2808\n",
      "Epoch 26/30\n",
      "625/625 - 2s - 3ms/step - accuracy: 1.0000 - loss: 4.7082e-06 - val_accuracy: 0.8167 - val_loss: 1.3145\n",
      "Epoch 27/30\n",
      "625/625 - 2s - 3ms/step - accuracy: 1.0000 - loss: 3.2758e-06 - val_accuracy: 0.8165 - val_loss: 1.3472\n",
      "Epoch 28/30\n",
      "625/625 - 2s - 4ms/step - accuracy: 1.0000 - loss: 2.3233e-06 - val_accuracy: 0.8167 - val_loss: 1.3794\n",
      "Epoch 29/30\n",
      "625/625 - 2s - 3ms/step - accuracy: 1.0000 - loss: 1.6185e-06 - val_accuracy: 0.8158 - val_loss: 1.4122\n",
      "Epoch 30/30\n",
      "625/625 - 2s - 3ms/step - accuracy: 1.0000 - loss: 1.1412e-06 - val_accuracy: 0.8161 - val_loss: 1.4457\n"
     ]
    }
   ],
   "source": [
    "# Training the model\n",
    "epochs = 30\n",
    "\n",
    "history = model.fit(training_padded, training_labels, epochs=epochs, validation_data=(testing_padded, testing_labels),\n",
    "                    verbose=2)"
   ],
   "metadata": {
    "collapsed": false,
    "ExecuteTime": {
     "end_time": "2024-06-09T10:08:55.327497Z",
     "start_time": "2024-06-09T10:08:00.486625Z"
    }
   },
   "id": "f786d37c6f9cd730"
  },
  {
   "cell_type": "code",
   "execution_count": 42,
   "outputs": [
    {
     "data": {
      "text/plain": "<Figure size 640x480 with 1 Axes>",
      "image/png": "[encoded data removed]"
     },
     "metadata": {},
     "output_type": "display_data"
    },
    {
     "data": {
      "text/plain": "<Figure size 640x480 with 1 Axes>",
      "image/png": "[encoded data removed]"
     },
     "metadata": {},
     "output_type": "display_data"
    }
   ],
   "source": [
    "def plot_graphs(history, string):\n",
    "  plt.plot(history.history[string])\n",
    "  plt.plot(history.history['val_'+string])\n",
    "  plt.xlabel(\"Epochs\")\n",
    "  plt.ylabel(string)\n",
    "  plt.legend([string, 'val_'+string])\n",
    "  plt.show()\n",
    "  \n",
    "plot_graphs(history, \"accuracy\")\n",
    "plot_graphs(history, \"loss\")"
   ],
   "metadata": {
    "collapsed": false,
    "ExecuteTime": {
     "end_time": "2024-06-09T10:12:20.381486Z",
     "start_time": "2024-06-09T10:12:19.767379Z"
    }
   },
   "id": "957dc99c458f5dde"
  },
  {
   "cell_type": "code",
   "execution_count": 50,
   "outputs": [
    {
     "name": "stdout",
     "output_type": "stream",
     "text": [
      "\u001B[1m1/1\u001B[0m \u001B[32m━━━━━━━━━━━━━━━━━━━━\u001B[0m\u001B[37m\u001B[0m \u001B[1m0s\u001B[0m 14ms/step\n",
      "[[2.3739016e-01]\n",
      " [3.7854004e-08]\n",
      " [9.9955219e-01]]\n"
     ]
    }
   ],
   "source": [
    "sentence = [\"granny starting to fear spiders in the garden might be real\", \n",
    "            \"game of thrones season finale showing this sunday night\",\n",
    "            \"your hair looks funny\"]\n",
    "sequences = tokenizer.texts_to_sequences(sentence)\n",
    "padded = pad_sequences(sequences, maxlen=max_length)\n",
    "print(model.predict(padded))"
   ],
   "metadata": {
    "collapsed": false,
    "ExecuteTime": {
     "end_time": "2024-06-09T10:16:27.616935Z",
     "start_time": "2024-06-09T10:16:27.566372Z"
    }
   },
   "id": "bc44144e7cd047b2"
  },
  {
   "cell_type": "code",
   "execution_count": null,
   "outputs": [],
   "source": [],
   "metadata": {
    "collapsed": false
   },
   "id": "25474f94dba6fd73"
  }
 ],
 "metadata": {
  "kernelspec": {
   "display_name": "Python 3",
   "language": "python",
   "name": "python3"
  },
  "language_info": {
   "codemirror_mode": {
    "name": "ipython",
    "version": 2
   },
   "file_extension": ".py",
   "mimetype": "text/x-python",
   "name": "python",
   "nbconvert_exporter": "python",
   "pygments_lexer": "ipython2",
   "version": "2.7.6"
  }
 },
 "nbformat": 4,
 "nbformat_minor": 5
}
